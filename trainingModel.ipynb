{
 "cells": [
  {
   "cell_type": "code",
   "execution_count": 4,
   "metadata": {},
   "outputs": [
    {
     "name": "stdout",
     "output_type": "stream",
     "text": [
      "<class 'pandas.core.frame.DataFrame'>\n",
      "RangeIndex: 1045547 entries, 0 to 1045546\n",
      "Data columns (total 21 columns):\n",
      " #   Column                Non-Null Count    Dtype\n",
      "---  ------                --------------    -----\n",
      " 0   AGE                   1045547 non-null  int64\n",
      " 1   is_male               1045547 non-null  int64\n",
      " 2   is_female             1045547 non-null  int64\n",
      " 3   is_female_pregnant    1045547 non-null  int64\n",
      " 4   is_hospitalized       1045547 non-null  int64\n",
      " 5   is_diabetic           1045547 non-null  int64\n",
      " 6   is_hypertensive       1045547 non-null  int64\n",
      " 7   is_obese              1045547 non-null  int64\n",
      " 8   is_copd               1045547 non-null  int64\n",
      " 9   is_tobacco_user       1045547 non-null  int64\n",
      " 10  is_heart_diseased     1045547 non-null  int64\n",
      " 11  is_immune_surpressed  1045547 non-null  int64\n",
      " 12  is_other_diseased     1045547 non-null  int64\n",
      " 13  is_infant             1045547 non-null  int64\n",
      " 14  is_toddler            1045547 non-null  int64\n",
      " 15  is_child              1045547 non-null  int64\n",
      " 16  is_teenager           1045547 non-null  int64\n",
      " 17  is_young_adult        1045547 non-null  int64\n",
      " 18  is_middle_aged        1045547 non-null  int64\n",
      " 19  is_pre_senior         1045547 non-null  int64\n",
      " 20  is_senior             1045547 non-null  int64\n",
      "dtypes: int64(21)\n",
      "memory usage: 167.5 MB\n"
     ]
    }
   ],
   "source": [
    "# Author: Benge Johnathan C. \n",
    "\n",
    "import numpy as np\n",
    "import pandas as pd\n",
    "import warnings\n",
    "warnings.filterwarnings(\"ignore\")\n",
    "\n",
    "df = pd.read_csv(\"prepData.csv\")\n",
    "df.info()"
   ]
  },
  {
   "attachments": {},
   "cell_type": "markdown",
   "metadata": {},
   "source": [
    "# Using LightGBM for Gradient Boosting\n",
    "- Gradient Boosted Decision Trees\n",
    "- XGBoost trees add more growth to 'depth' (no longer using XGBoost - added litte value)\n",
    "    - XGBoost expands all nodes depth-wise and first split all nodes at a given depth before adding more levels.\n",
    "- LightGBM applies more 'leaf growth'\n",
    "    - LighGBM splits leaf nodes that maximize information gain"
   ]
  },
  {
   "cell_type": "code",
   "execution_count": 5,
   "metadata": {},
   "outputs": [],
   "source": [
    "import lightgbm as lgb\n",
    "from sklearn.model_selection import train_test_split\n",
    "from imblearn.under_sampling import RandomUnderSampler\n",
    "\n",
    "# Split the data into training and testing sets\n",
    "X = df.drop('is_hospitalized', axis=1)\n",
    "y = df['is_hospitalized']\n",
    "X_train, X_test, y_train, y_test = train_test_split(X, y, test_size=0.1, random_state=42)\n",
    "\n",
    "# Creating a RandomUnderSampler object to handle the undersampling\n",
    "sampler = RandomUnderSampler(random_state=42)\n",
    "\n",
    "# Using the sampler to fit and transform the training data\n",
    "X_train_resampled, y_train_resampled = sampler.fit_resample(X_train, y_train)\n",
    "\n",
    "# Build and train the LightGBM model using the resampled training data\n",
    "lgb_model = lgb.LGBMClassifier(num_leaves=55, max_bin=60, learning_rate=0.065, \n",
    "                                n_estimators=1000, max_depth=8, boosting_type=\"dart\", \n",
    "                                objective='binary',class_weight='balanced', \n",
    "                                subsample=0.8, colsample_bytree=0.8)\n",
    "\n",
    "lgb_model.fit(X_train_resampled, y_train_resampled)\n",
    "\n",
    "# Use the LightGBM model to make predictions on the test set\n",
    "lgb_predictions = lgb_model.predict(X_test)"
   ]
  },
  {
   "cell_type": "code",
   "execution_count": 6,
   "metadata": {},
   "outputs": [
    {
     "name": "stdout",
     "output_type": "stream",
     "text": [
      "Accuracy: 0.743\n"
     ]
    }
   ],
   "source": [
    "# Evaluate the LightGBM model\n",
    "accuracy = lgb_model.score(X_test, y_test)\n",
    "print(f'Accuracy: {accuracy:.3f}')\n",
    "\n",
    "# Initialize a counter for the number of incorrect predictions\n",
    "incorrect_predictions = 0\n",
    "\n",
    "# Iterate over the predicted and actual values\n",
    "for y_hat, y in zip(lgb_predictions, y_test):\n",
    "  # If the predicted value is not equal to the actual value, increment the counter\n",
    "  if y_hat != y:\n",
    "    incorrect_predictions += 1\n"
   ]
  },
  {
   "attachments": {},
   "cell_type": "markdown",
   "metadata": {},
   "source": [
    "# Saving Trained Model with Pickle"
   ]
  },
  {
   "cell_type": "code",
   "execution_count": 7,
   "metadata": {},
   "outputs": [],
   "source": [
    "import pickle\n",
    "\n",
    "# Save the model to a file\n",
    "with open('lgb_model.pkl', 'wb') as file:\n",
    "    pickle.dump(lgb_model, file)"
   ]
  },
  {
   "cell_type": "code",
   "execution_count": 8,
   "metadata": {},
   "outputs": [
    {
     "name": "stdout",
     "output_type": "stream",
     "text": [
      "[0]\n",
      "[[16  0  1  0  0  0  0  0  0  0  0  0  0  0  0  1  0  0  0  0]]\n"
     ]
    }
   ],
   "source": [
    "# Testing Predictions \n",
    "\n",
    "tester = X_test.iloc[5,:].values.reshape(1,-1)\n",
    "testpredict = lgb_model.predict(tester)\n",
    "print(testpredict)\n",
    "\n",
    "print(tester)"
   ]
  }
 ],
 "metadata": {
  "kernelspec": {
   "display_name": "Python 3",
   "language": "python",
   "name": "python3"
  },
  "language_info": {
   "codemirror_mode": {
    "name": "ipython",
    "version": 3
   },
   "file_extension": ".py",
   "mimetype": "text/x-python",
   "name": "python",
   "nbconvert_exporter": "python",
   "pygments_lexer": "ipython3",
   "version": "3.7.9 (tags/v3.7.9:13c94747c7, Aug 17 2020, 16:30:00) [MSC v.1900 64 bit (AMD64)]"
  },
  "orig_nbformat": 4,
  "vscode": {
   "interpreter": {
    "hash": "7e6cb9ac223b8eabbe52419223974ec164058baaddd5ef6ba2b7f350d9739a05"
   }
  }
 },
 "nbformat": 4,
 "nbformat_minor": 2
}
